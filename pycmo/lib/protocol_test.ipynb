{
 "metadata": {
  "language_info": {
   "codemirror_mode": {
    "name": "ipython",
    "version": 3
   },
   "file_extension": ".py",
   "mimetype": "text/x-python",
   "name": "python",
   "nbconvert_exporter": "python",
   "pygments_lexer": "ipython3",
   "version": "3.9.2"
  },
  "orig_nbformat": 2,
  "kernelspec": {
   "name": "pythonjvsc74a57bd0c9fb8b4b54ce131b9bb7ac4e502324dc7ff89bc69efa52d5248faf24fa40cacd",
   "display_name": "Python 3.9.2 64-bit ('venv': venv)"
  },
  "metadata": {
   "interpreter": {
    "hash": "c9fb8b4b54ce131b9bb7ac4e502324dc7ff89bc69efa52d5248faf24fa40cacd"
   }
  }
 },
 "nbformat": 4,
 "nbformat_minor": 2,
 "cells": [
  {
   "cell_type": "code",
   "execution_count": 31,
   "metadata": {},
   "outputs": [
    {
     "output_type": "stream",
     "name": "stdout",
     "text": [
      "OK\n"
     ]
    }
   ],
   "source": [
    "import socket\n",
    "\n",
    "host = \"localhost\"\n",
    "port = 7777                   # The same port as used by the server\n",
    "s = socket.socket(socket.AF_INET, socket.SOCK_STREAM)\n",
    "s.connect((host, port))\n",
    "data = \"--script \\n VP_RunSimulation() \\n local unit = VP_GetUnit({side = 'United Nations', name = 'HMS Black Swan'}) \\n file = io.open('C:\\\\\\\\Users\\\\\\\\Public\\\\\\\\Desktop\\\\\\\\test.txt', 'w') \\n io.output(file) \\n io.write(unit.name) \\n io.close(file) \\n VP_PauseSimulation()\"\n",
    "s.sendall(data.encode(encoding='UTF-8'))\n",
    "data = s.recv(1024)\n",
    "received = str(data, \"utf-8\")\n",
    "s.close()\n",
    "print(received)"
   ]
  },
  {
   "cell_type": "code",
   "execution_count": 35,
   "metadata": {},
   "outputs": [],
   "source": [
    "import socket\n",
    "import os\n",
    "import subprocess"
   ]
  },
  {
   "cell_type": "code",
   "execution_count": 37,
   "metadata": {},
   "outputs": [],
   "source": [
    "\"\"\"Protocol library to communicate with Command.\"\"\"\n",
    "\n",
    "class CommandProtocol():\n",
    "    def __init__(self, side):\n",
    "        self.side = side\n",
    "\n",
    "    def start_game(self, scenario):\n",
    "        try:\n",
    "            prog_path = \"C:\\\\Program Files (x86)\\\\Command Professional Edition\"\n",
    "            scen_path = scenario\n",
    "            command = \"CommandCLI.exe -mode I -scenfile {}\".format(scen_path)\n",
    "            subprocess.call(command, shell=True, cwd = prog_path)\n",
    "        except:\n",
    "            pass\n",
    "\n",
    "    def get_observation(self):\n",
    "        pass\n",
    "\n",
    "    def send_action(self):\n",
    "        pass\n",
    "\n",
    "    def step(self):\n",
    "        pass\n",
    "\n",
    "    def restart(self):\n",
    "        pass\n",
    "\n",
    "    def end_game(self):\n",
    "        pass\n",
    "\n",
    "blue = CommandProtocol(\"United Nations\")\n",
    "blue.start_game(\"C:\\\\Program Files (x86)\\\\Command Professional Edition\\\\Scenarios\\\\Standalone Scenarios\\\\Battle of Chumonchin Chan, 1950.scen\")"
   ]
  },
  {
   "cell_type": "code",
   "execution_count": null,
   "metadata": {},
   "outputs": [],
   "source": []
  }
 ]
}